{
 "cells": [
  {
   "cell_type": "code",
   "execution_count": null,
   "metadata": {},
   "outputs": [],
   "source": [
    "from pyquaternion import Quaternion\n",
    "import numpy as np\n",
    "\n",
    "from nuscenes.nuscenes import NuScenes\n",
    "from nuscenes.eval.common.utils import quaternion_yaw, yaw_diff\n",
    "from nuscenes.map_expansion.map_api import NuScenesMap\n",
    "\n",
    "nusc = NuScenes(version='v1.0-mini', dataroot='/data/Datasets/nuscenes', verbose=False)\n",
    "sample = nusc.sample[70]  # Pick any sample\n",
    "scene = nusc.get('scene', sample['scene_token'])\n",
    "log = nusc.get('log', scene['log_token'])\n",
    "nusc_map = NuScenesMap(dataroot='/data/Datasets/nuscenes', map_name=log['location'])\n",
    "\n",
    "sample_data = nusc.get('sample_data', sample['data']['LIDAR_TOP'])\n",
    "ego_pose = nusc.get('ego_pose', sample_data['ego_pose_token'])\n",
    "translation = ego_pose['translation']\n",
    "rotation = Quaternion(ego_pose['rotation'])\n",
    "yaw = quaternion_yaw(rotation) / np.pi * 180\n",
    "patch_box = (translation[0], translation[1], 80, 80)\n",
    "patch_angle = yaw\n",
    "layer_names = ['drivable_area']\n",
    "canvas_size = (patch_box[2], patch_box[3])\n",
    "fig, ax = nusc_map.render_map_mask(patch_box, patch_angle, layer_names, canvas_size, n_row=1)"
   ]
  },
  {
   "cell_type": "code",
   "execution_count": 16,
   "metadata": {},
   "outputs": [
    {
     "name": "stdout",
     "output_type": "stream",
     "text": [
      "4.112635845686136\n"
     ]
    }
   ],
   "source": [
    "o1 = Quaternion([0.2739873459243994, 0.0, 0.0, 0.9617332968517329])\n",
    "o2 = Quaternion([0.7227257694876177, 0.0, 0.0, -0.6911349087685636])\n",
    "q1 = quaternion_yaw(o1)\n",
    "q2 = quaternion_yaw(o2)\n",
    "print(abs(q1 - q2))"
   ]
  }
 ],
 "metadata": {
  "kernelspec": {
   "display_name": "nuscenes",
   "language": "python",
   "name": "python3"
  },
  "language_info": {
   "codemirror_mode": {
    "name": "ipython",
    "version": 3
   },
   "file_extension": ".py",
   "mimetype": "text/x-python",
   "name": "python",
   "nbconvert_exporter": "python",
   "pygments_lexer": "ipython3",
   "version": "3.7.16"
  }
 },
 "nbformat": 4,
 "nbformat_minor": 2
}
