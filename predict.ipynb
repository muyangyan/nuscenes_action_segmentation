{
 "cells": [
  {
   "cell_type": "code",
   "execution_count": 1,
   "metadata": {},
   "outputs": [
    {
     "name": "stderr",
     "output_type": "stream",
     "text": [
      "usage: ipykernel_launcher.py [-h] [--model MODEL] [--mode MODE]\n",
      "                             [--dataset DATASET] [--predict] [--wandb WANDB]\n",
      "                             [--mapping_file MAPPING_FILE]\n",
      "                             [--features_path FEATURES_PATH]\n",
      "                             [--gt_path GT_PATH] [--split SPLIT]\n",
      "                             [--file_path FILE_PATH]\n",
      "                             [--model_save_path MODEL_SAVE_PATH]\n",
      "                             [--results_save_path RESULTS_SAVE_PATH]\n",
      "                             [--task TASK] [--batch_size BATCH_SIZE]\n",
      "                             [--test_batch_size TEST_BATCH_SIZE]\n",
      "                             [--epochs EPOCHS] [--warmup_epochs WARMUP_EPOCHS]\n",
      "                             [--workers WORKERS] [--lr LR] [--lr_mul LR_MUL]\n",
      "                             [--weight_decay WEIGHT_DECAY]\n",
      "                             [-warmup N_WARMUP_STEPS] [--cpu]\n",
      "                             [--sample_rate SAMPLE_RATE] [--obs_perc OBS_PERC]\n",
      "                             [--n_query N_QUERY] [--n_head N_HEAD]\n",
      "                             [--hidden_dim HIDDEN_DIM]\n",
      "                             [--n_encoder_layer N_ENCODER_LAYER]\n",
      "                             [--n_decoder_layer N_DECODER_LAYER]\n",
      "                             [--dropout DROPOUT] [--input_dim INPUT_DIM]\n",
      "                             [--seg] [--anticipate] [--pos_emb]\n",
      "                             [--max_pos_len MAX_POS_LEN]\n",
      "                             [--input_type INPUT_TYPE] [--runs RUNS]\n",
      "                             [--bitmask_channels BITMASK_CHANNELS]\n",
      "ipykernel_launcher.py: error: ambiguous option: --f=/home/muyang/.local/share/jupyter/runtime/kernel-v2-13056195pWHPbVkjCM.json could match --features_path, --file_path\n"
     ]
    },
    {
     "ename": "SystemExit",
     "evalue": "2",
     "output_type": "error",
     "traceback": [
      "An exception has occurred, use %tb to see the full traceback.\n",
      "\u001b[0;31mSystemExit\u001b[0m\u001b[0;31m:\u001b[0m 2\n"
     ]
    },
    {
     "name": "stderr",
     "output_type": "stream",
     "text": [
      "/home/muyang/miniconda3/envs/nuscenes/lib/python3.7/site-packages/IPython/core/interactiveshell.py:3561: UserWarning: To exit: use 'exit', 'quit', or Ctrl-D.\n",
      "  warn(\"To exit: use 'exit', 'quit', or Ctrl-D.\", stacklevel=1)\n"
     ]
    }
   ],
   "source": [
    "import torch\n",
    "import torch.nn as nn\n",
    "from torch.utils.data import DataLoader\n",
    "import os\n",
    "from opts import parser\n",
    "from pl_bolts.optimizers.lr_scheduler import LinearWarmupCosineAnnealingLR\n",
    "\n",
    "#from utils import read_mapping_dict\n",
    "#from data.basedataset import BaseDataset\n",
    "from model.futr import FUTR\n",
    "from train import train\n",
    "from predict import predict\n",
    "\n",
    "from dataset_utils import *\n",
    "\n",
    "device = torch.device('cuda')\n",
    "\n",
    "\n",
    "args = parser.parse_args()\n",
    "\n",
    "if args.cpu:\n",
    "    device = torch.device('cpu')\n",
    "    print('using cpu')\n",
    "else:\n",
    "    device = torch.device('cpu')\n",
    "    print('using cpu')\n",
    "print('runs : ', args.runs)\n",
    "print('model type : ', args.model)\n",
    "print('input type : ', args.input_type)\n",
    "print('Epoch : ', args.epochs)\n",
    "print(\"batch size : \", args.batch_size)\n",
    "print(\"Split : \", args.split)\n",
    "\n",
    "split = args.split\n",
    "\n",
    "data_path = './data'\n",
    "\n",
    "n_class = len(actions) + 1\n",
    "pad_idx = n_class + 1\n",
    "\n",
    "train_traj_list = ['0', '1', '2', '3', '4', '5']\n",
    "test_traj_list = ['0', '1', '2', '3', '4', '5']\n",
    "\n",
    "# Model specification\n",
    "model = FUTR(n_class, args.hidden_dim, device=device, args=args, src_pad_idx=pad_idx,\n",
    "                        n_query=args.n_query, n_head=args.n_head,\n",
    "                        num_encoder_layers=args.n_encoder_layer, num_decoder_layers=args.n_decoder_layer).to(device)\n",
    "\n",
    "model_save_path = os.path.join('./save_dir', args.dataset, args.task, 'model/transformer', split, args.input_type, \\\n",
    "                                'runs'+str(args.runs))\n",
    "results_save_path = os.path.join('./save_dir/'+args.dataset+'/'+args.task+'/results/transformer', 'split'+split,\n",
    "                                args.input_type )\n",
    "if not os.path.exists(results_save_path):\n",
    "    os.makedirs(results_save_path)\n",
    "\n",
    "\n",
    "model_save_file = os.path.join(model_save_path, 'checkpoint.ckpt')\n",
    "model = nn.DataParallel(model).to(device)\n",
    "\n",
    "optimizer = torch.optim.AdamW(model.parameters(), args.lr, weight_decay=args.weight_decay)\n",
    "warmup_epochs = args.warmup_epochs\n",
    "scheduler = LinearWarmupCosineAnnealingLR(optimizer, warmup_epochs=warmup_epochs, max_epochs=args.epochs)\n",
    "criterion = nn.MSELoss(reduction = 'none')"
   ]
  },
  {
   "cell_type": "code",
   "execution_count": null,
   "metadata": {},
   "outputs": [],
   "source": [
    "\n",
    "model.load_state_dict(torch.load(model_path))\n",
    "model.to(device)"
   ]
  },
  {
   "cell_type": "code",
   "execution_count": null,
   "metadata": {},
   "outputs": [],
   "source": [
    "#model, test_traj_list, args, obs_p, n_class, actions_dict, device\n",
    "\n"
   ]
  }
 ],
 "metadata": {
  "kernelspec": {
   "display_name": "nuscenes",
   "language": "python",
   "name": "python3"
  },
  "language_info": {
   "codemirror_mode": {
    "name": "ipython",
    "version": 3
   },
   "file_extension": ".py",
   "mimetype": "text/x-python",
   "name": "python",
   "nbconvert_exporter": "python",
   "pygments_lexer": "ipython3",
   "version": "3.7.12"
  }
 },
 "nbformat": 4,
 "nbformat_minor": 2
}
