{
 "cells": [
  {
   "cell_type": "code",
   "execution_count": 3,
   "metadata": {},
   "outputs": [],
   "source": [
    "import os\n",
    "import sys\n",
    "import json\n",
    "import pickle\n",
    "import torch\n",
    "\n",
    "from main_nusc import data_path\n",
    "\n",
    "from dataset_utils import *"
   ]
  },
  {
   "cell_type": "code",
   "execution_count": 11,
   "metadata": {},
   "outputs": [],
   "source": [
    "traj_list = [str(i) for i in range(2455)]\n",
    "dataset = NuScenesSimple(data_path, traj_list)\n",
    "\n",
    "corrupted_files = []\n",
    "for i in range(len(traj_list)):\n",
    "    try:\n",
    "        d = dataset[i]\n",
    "    except Exception as e:\n",
    "        corrupted_files.append((i, str(e)))\n"
   ]
  },
  {
   "cell_type": "code",
   "execution_count": 12,
   "metadata": {},
   "outputs": [
    {
     "data": {
      "text/plain": [
       "[(2454,\n",
       "  \"[Errno 2] No such file or directory: '/data/Datasets/nuscenes_custom/data/cam_poses/2454.pt'\")]"
      ]
     },
     "execution_count": 12,
     "metadata": {},
     "output_type": "execute_result"
    }
   ],
   "source": [
    "corrupted_files"
   ]
  }
 ],
 "metadata": {
  "kernelspec": {
   "display_name": "nuscenes",
   "language": "python",
   "name": "python3"
  },
  "language_info": {
   "codemirror_mode": {
    "name": "ipython",
    "version": 3
   },
   "file_extension": ".py",
   "mimetype": "text/x-python",
   "name": "python",
   "nbconvert_exporter": "python",
   "pygments_lexer": "ipython3",
   "version": "3.7.12"
  }
 },
 "nbformat": 4,
 "nbformat_minor": 2
}
