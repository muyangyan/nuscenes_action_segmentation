{
 "cells": [
  {
   "cell_type": "code",
   "execution_count": 12,
   "metadata": {},
   "outputs": [],
   "source": [
    "from sklearn.model_selection import KFold\n",
    "import numpy as np\n",
    "import json\n",
    "\n",
    "\n",
    "# Sample data\n",
    "#2454 = 3 * 818\n",
    "#split 818 scenes, then reaugment\n",
    "scene_count = 818\n",
    "n_augment = 3\n",
    "\n",
    "pre_data = np.array(range(scene_count))\n",
    "\n",
    "# Prepare cross-validation\n",
    "kfold = KFold(n_splits=10, shuffle=True, random_state=1)\n",
    "\n",
    "\n",
    "splits = {}\n",
    "\n",
    "kfold_split = kfold.split(pre_data)\n",
    "\n",
    "for fold, (pre_train, pre_test) in enumerate(kfold_split, 1):\n",
    "    test = [range(n_augment * i, n_augment * (i+1)) for i in pre_test]\n",
    "    test = [j for sub in test for j in sub]\n",
    "    train = [range(n_augment * i, n_augment * (i+1)) for i in pre_train]\n",
    "    train = [j for sub in train for j in sub]\n",
    "\n",
    "    splits[fold] = {'train':train, 'test':test}\n",
    "    for i in range(2454):\n",
    "        if i in test and i in train:\n",
    "            print(\"ERROR: Overlap detected\")\n"
   ]
  },
  {
   "cell_type": "code",
   "execution_count": 17,
   "metadata": {},
   "outputs": [
    {
     "ename": "",
     "evalue": "",
     "output_type": "error",
     "traceback": [
      "\u001b[1;31mThe Kernel crashed while executing code in the current cell or a previous cell. \n",
      "\u001b[1;31mPlease review the code in the cell(s) to identify a possible cause of the failure. \n",
      "\u001b[1;31mClick <a href='https://aka.ms/vscodeJupyterKernelCrash'>here</a> for more info. \n",
      "\u001b[1;31mView Jupyter <a href='command:jupyter.viewOutput'>log</a> for further details."
     ]
    }
   ],
   "source": [
    "import os\n",
    "import sys\n",
    "sys.path.append(os.getcwd() + '/../')\n",
    "\n",
    "\n",
    "from main_nusc import data_path\n",
    "with open(data_path + '/../splits.json', 'w') as f:\n",
    "    json.dump(splits, f)"
   ]
  }
 ],
 "metadata": {
  "kernelspec": {
   "display_name": "nuscenes",
   "language": "python",
   "name": "python3"
  },
  "language_info": {
   "codemirror_mode": {
    "name": "ipython",
    "version": 3
   },
   "file_extension": ".py",
   "mimetype": "text/x-python",
   "name": "python",
   "nbconvert_exporter": "python",
   "pygments_lexer": "ipython3",
   "version": "3.7.12"
  }
 },
 "nbformat": 4,
 "nbformat_minor": 2
}
