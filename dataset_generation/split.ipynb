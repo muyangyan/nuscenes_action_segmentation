{
 "cells": [
  {
   "cell_type": "code",
   "execution_count": 12,
   "metadata": {},
   "outputs": [],
   "source": [
    "from sklearn.model_selection import KFold\n",
    "import numpy as np\n",
    "import json\n",
    "\n",
    "\n",
    "# Sample data\n",
    "#2454 = 3 * 818\n",
    "#split 818 scenes, then reaugment\n",
    "scene_count = 818\n",
    "n_augment = 3\n",
    "\n",
    "pre_data = np.array(range(scene_count))\n",
    "\n",
    "# Prepare cross-validation\n",
    "kfold = KFold(n_splits=10, shuffle=True, random_state=1)\n",
    "\n",
    "\n",
    "splits = {}\n",
    "\n",
    "kfold_split = kfold.split(pre_data)\n",
    "\n",
    "for fold, (pre_train, pre_test) in enumerate(kfold_split, 1):\n",
    "    test = [range(n_augment * i, n_augment * (i+1)) for i in pre_test]\n",
    "    test = [j for sub in test for j in sub]\n",
    "    train = [range(n_augment * i, n_augment * (i+1)) for i in pre_train]\n",
    "    train = [j for sub in train for j in sub]\n",
    "\n",
    "    splits[fold] = {'train':train, 'test':test}\n",
    "    for i in range(2454):\n",
    "        if i in test and i in train:\n",
    "            print(\"ERROR: Overlap detected\")\n"
   ]
  },
  {
   "cell_type": "code",
   "execution_count": 17,
   "metadata": {},
   "outputs": [
    {
     "ename": "",
     "evalue": "",
     "output_type": "error",
     "traceback": [
      "\u001b[1;31mThe Kernel crashed while executing code in the current cell or a previous cell. \n",
      "\u001b[1;31mPlease review the code in the cell(s) to identify a possible cause of the failure. \n",
      "\u001b[1;31mClick <a href='https://aka.ms/vscodeJupyterKernelCrash'>here</a> for more info. \n",
      "\u001b[1;31mView Jupyter <a href='command:jupyter.viewOutput'>log</a> for further details."
     ]
    }
   ],
   "source": [
    "import os\n",
    "import sys\n",
    "sys.path.append(os.getcwd() + '/../')\n",
    "\n",
    "\n",
    "from main_nusc import data_path\n",
    "with open(data_path + '/../splits.json', 'w') as f:\n",
    "    json.dump(splits, f)"
   ]
  },
  {
   "cell_type": "code",
   "execution_count": 1,
   "metadata": {},
   "outputs": [],
   "source": [
    "import sys\n",
    "import os\n",
    "sys.path.append(os.getcwd() + '/../')\n",
    "\n",
    "from dataset_utils import *\n",
    "from main_nusc import data_path\n",
    "import pandas as pd\n",
    "from ast import literal_eval"
   ]
  },
  {
   "cell_type": "code",
   "execution_count": 3,
   "metadata": {},
   "outputs": [],
   "source": [
    "nusc_data = NuScenesSimple(data_path, [str(i) for i in range(2454)], mode='test', obs_perc=1)\n",
    "\n",
    "lane_change_idxs = []\n",
    "for i,n in enumerate(nusc_data):\n",
    "    action_list = n['actions'].int().tolist() \n",
    "    if 8 in action_list or 9 in action_list:\n",
    "        lane_change_idxs.append(i)\n",
    "\n",
    "print(len(lane_change_idxs)/3)"
   ]
  },
  {
   "cell_type": "code",
   "execution_count": null,
   "metadata": {},
   "outputs": [],
   "source": [
    "split_dict = {'train':lane_change_idxs, 'test':lane_change_idxs}\n",
    "with open('../custom_splits/lane_changes.json', 'w') as f:\n",
    "    json.dump(split_dict, f)"
   ]
  },
  {
   "cell_type": "code",
   "execution_count": null,
   "metadata": {},
   "outputs": [],
   "source": []
  }
 ],
 "metadata": {
  "kernelspec": {
   "display_name": "nuscenes",
   "language": "python",
   "name": "python3"
  },
  "language_info": {
   "codemirror_mode": {
    "name": "ipython",
    "version": 3
   },
   "file_extension": ".py",
   "mimetype": "text/x-python",
   "name": "python",
   "nbconvert_exporter": "python",
   "pygments_lexer": "ipython3",
   "version": "3.7.12"
  }
 },
 "nbformat": 4,
 "nbformat_minor": 2
}
