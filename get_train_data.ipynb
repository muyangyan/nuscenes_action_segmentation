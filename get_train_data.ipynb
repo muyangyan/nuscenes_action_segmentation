{
 "cells": [
  {
   "cell_type": "code",
   "execution_count": 13,
   "metadata": {},
   "outputs": [
    {
     "name": "stdout",
     "output_type": "stream",
     "text": [
      "======\n",
      "Loading NuScenes tables for version v1.0-mini...\n",
      "23 category,\n",
      "8 attribute,\n",
      "4 visibility,\n",
      "911 instance,\n",
      "12 sensor,\n",
      "120 calibrated_sensor,\n",
      "31206 ego_pose,\n",
      "8 log,\n",
      "10 scene,\n",
      "404 sample,\n",
      "31206 sample_data,\n",
      "18538 sample_annotation,\n",
      "4 map,\n",
      "Done loading in 0.431 seconds.\n",
      "======\n",
      "Reverse indexing ...\n",
      "Done reverse indexing in 0.1 seconds.\n",
      "======\n"
     ]
    }
   ],
   "source": [
    "import matplotlib.pyplot as plt\n",
    "import tqdm\n",
    "import numpy as np\n",
    "\n",
    "from nuscenes.nuscenes import NuScenes\n",
    "from nuscenes.map_expansion.map_api import NuScenesMap\n",
    "from nuscenes.can_bus.can_bus_api import NuScenesCanBus\n",
    "\n",
    "dataroot='/data/Datasets/nuscenes'\n",
    "\n",
    "nusc = NuScenes(version='v1.0-mini', dataroot=dataroot, verbose=True)\n",
    "nusc_map_so = NuScenesMap(dataroot=dataroot, map_name='singapore-onenorth')\n",
    "nusc_map_sh = NuScenesMap(dataroot=dataroot, map_name='singapore-hollandvillage')\n",
    "nusc_map_sq = NuScenesMap(dataroot=dataroot, map_name='singapore-queenstown')\n",
    "nusc_map_bs = NuScenesMap(dataroot=dataroot, map_name='boston-seaport')\n",
    "nusc_can = NuScenesCanBus(dataroot=dataroot)"
   ]
  },
  {
   "cell_type": "markdown",
   "metadata": {},
   "source": [
    "parameters:\n",
    "square radius for bit masks and scene graphs\n",
    "\n",
    "notes:\n",
    "dataset must be collected at a specific radius, since getting the bit mask depends on the trajectory\n",
    "first run a separate calculation to extract scene features, then query this table when getting train data.\n",
    "\n",
    "dataset:\n",
    "per trajectory:\n",
    "    per frame:\n",
    "        position of camera\n",
    "        scene graph from instances\n",
    "        bitmasks\n",
    "\n",
    "        label->current action of ego vehicle\n",
    "\n",
    "radius is a parameter for dataset\n",
    "\n",
    "how to store the file?\n",
    "\n",
    "bit masks: each trajectory gets a 4d tensor\n",
    "scene graphs: \n",
    "action labels: just query from a table\n"
   ]
  },
  {
   "cell_type": "code",
   "execution_count": 46,
   "metadata": {},
   "outputs": [],
   "source": [
    "class NuScenesDatasetCreator:\n",
    "    def __init__(self, bitmask_dim, radius):\n",
    "        self.bitmask_dim = bitmask_dim\n",
    "        self.radius = radius\n",
    "\n",
    "    '''\n",
    "    creates the dataset and writes features to a file\n",
    "    '''\n",
    "    def create_dataset(self):\n",
    "        for each scene\n",
    "            generate some trajectories\n",
    "            for each trajectory\n",
    "                process_trajectory()\n",
    "\n",
    "    def process_trajectory():\n",
    "        for each frame\n",
    "            process frame\n",
    "        \n",
    "\n",
    "    def process_frame():\n",
    "        \n",
    "\n",
    "\n",
    "    def create_scene_graphs(self):\n",
    "        radius = self.radius\n",
    "        \n",
    "\n",
    "    def get_bitmask(self, pos, angle):\n",
    "        radius = self.radius\n",
    "        bitmask_dim = self.bitmask_dim\n",
    "        box = [pos[0],pos[1],radius*2,radius*2]\n",
    "        nusc_map = nusc_map_bs\n",
    "        map = nusc_map.get_map_mask(box, angle, canvas_size=bitmask_dim)\n",
    "        print(map)"
   ]
  },
  {
   "cell_type": "code",
   "execution_count": null,
   "metadata": {},
   "outputs": [],
   "source": []
  }
 ],
 "metadata": {
  "kernelspec": {
   "display_name": "nuscenes",
   "language": "python",
   "name": "python3"
  },
  "language_info": {
   "codemirror_mode": {
    "name": "ipython",
    "version": 3
   },
   "file_extension": ".py",
   "mimetype": "text/x-python",
   "name": "python",
   "nbconvert_exporter": "python",
   "pygments_lexer": "ipython3",
   "version": "3.7.16"
  }
 },
 "nbformat": 4,
 "nbformat_minor": 2
}
