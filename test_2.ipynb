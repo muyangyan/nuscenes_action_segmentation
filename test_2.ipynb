{
 "cells": [
  {
   "cell_type": "code",
   "execution_count": 6,
   "metadata": {},
   "outputs": [],
   "source": [
    "from dataset_utils import *"
   ]
  },
  {
   "cell_type": "code",
   "execution_count": 7,
   "metadata": {},
   "outputs": [],
   "source": [
    "nusc_data = NuScenesCustom('nuscenes_processed_train.pkl')"
   ]
  },
  {
   "cell_type": "code",
   "execution_count": 8,
   "metadata": {},
   "outputs": [
    {
     "data": {
      "text/plain": [
       "<dataset_utils.NuScenesCustom at 0x7f617d4ca090>"
      ]
     },
     "execution_count": 8,
     "metadata": {},
     "output_type": "execute_result"
    }
   ],
   "source": [
    "nusc_data"
   ]
  },
  {
   "cell_type": "code",
   "execution_count": 10,
   "metadata": {},
   "outputs": [],
   "source": [
    "plt.ioff()\n",
    "fig = render_frame(nusc_data[9][0])\n",
    "fig.savefig('test_frame.png')\n",
    "\n",
    "#render_trajectory('test_traj.gif', nusc_data[0])"
   ]
  },
  {
   "cell_type": "code",
   "execution_count": 4,
   "metadata": {},
   "outputs": [],
   "source": [
    "from model.futr import FUTR\n",
    "\n",
    "n_class = len(colors_actions)\n",
    "hidden_dim = 128\n",
    "\n",
    "\n",
    "\n",
    "\n",
    "model = FUTR(n_class, hidden_dim, device=device, args=args, src_pad_idx=pad_idx,\n",
    "                        n_query=args.n_query, n_head=args.n_head,\n",
    "                        num_encoder_layers=args.n_encoder_layer, num_decoder_layers=args.n_decoder_layer).to(device)\n",
    "\n"
   ]
  }
 ],
 "metadata": {
  "kernelspec": {
   "display_name": "nuscenes",
   "language": "python",
   "name": "python3"
  },
  "language_info": {
   "codemirror_mode": {
    "name": "ipython",
    "version": 3
   },
   "file_extension": ".py",
   "mimetype": "text/x-python",
   "name": "python",
   "nbconvert_exporter": "python",
   "pygments_lexer": "ipython3",
   "version": "3.7.12"
  }
 },
 "nbformat": 4,
 "nbformat_minor": 2
}
