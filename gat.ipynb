{
 "cells": [
  {
   "cell_type": "code",
   "execution_count": 1,
   "metadata": {},
   "outputs": [],
   "source": [
    "import torch\n",
    "import torch_geometric\n",
    "from torch_geometric.data import Data, HeteroData\n",
    "from torch_geometric.nn.models import GAT\n",
    "\n",
    "#from model.extras.gat import GAT, GraphAttn\n",
    "\n"
   ]
  },
  {
   "cell_type": "code",
   "execution_count": null,
   "metadata": {},
   "outputs": [],
   "source": [
    "hd = HeteroData()"
   ]
  },
  {
   "cell_type": "code",
   "execution_count": null,
   "metadata": {},
   "outputs": [],
   "source": [
    "geo_gat = GAT()"
   ]
  },
  {
   "cell_type": "code",
   "execution_count": 5,
   "metadata": {},
   "outputs": [
    {
     "data": {
      "text/plain": [
       "0"
      ]
     },
     "execution_count": 5,
     "metadata": {},
     "output_type": "execute_result"
    }
   ],
   "source": [
    "from torch_geometric.data import HeteroData\n",
    "\n",
    "data = HeteroData()\n",
    "\n",
    "num_papers = 100\n",
    "num_authors = 50\n",
    "num_paper_features = 10\n",
    "num_authors_features = 10\n",
    "\n",
    "# Create two node types \"paper\" and \"author\" holding a feature matrix:\n",
    "data['paper'].x = torch.randn(num_papers, num_paper_features)\n",
    "data['author'].x = torch.randn(num_authors, num_authors_features)\n",
    "\n",
    "# Create an edge type \"(author, writes, paper)\" and building the\n",
    "# graph connectivity:\n",
    "data['author', 'writes', 'paper'].edge_index = ...  # [2, num_edges]\n",
    "\n",
    "data['paper'].num_nodes\n",
    "data['author', 'writes', 'paper'].num_edges\n",
    "\n",
    "# PyTorch tensor functionality:\n",
    "#data = data.pin_memory()\n",
    "#data = data.to('cpu', non_blocking=True)"
   ]
  }
 ],
 "metadata": {
  "kernelspec": {
   "display_name": "nuscenes",
   "language": "python",
   "name": "python3"
  },
  "language_info": {
   "codemirror_mode": {
    "name": "ipython",
    "version": 3
   },
   "file_extension": ".py",
   "mimetype": "text/x-python",
   "name": "python",
   "nbconvert_exporter": "python",
   "pygments_lexer": "ipython3",
   "version": "3.7.12"
  }
 },
 "nbformat": 4,
 "nbformat_minor": 2
}
