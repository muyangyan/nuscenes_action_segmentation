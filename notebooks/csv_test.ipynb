{
 "cells": [
  {
   "cell_type": "code",
   "execution_count": 1,
   "metadata": {},
   "outputs": [],
   "source": [
    "import csv\n",
    "\n",
    "# List of dictionaries\n",
    "dict_data = [\n",
    "    {'No': 1, 'Name': 'Alex', 'Country': 'India'},\n",
    "    {'No': 2, 'Name': 'Ben', 'Country': 'USA'},\n",
    "    {'No': 3, 'Name': 'Shri Ram', 'Country': 'India'},\n",
    "    {'No': 4, 'Name': 'Smith', 'Country': 'USA'},\n",
    "    {'No': 5, 'Name': 'Yuva Raj', 'Country': 'India'},\n",
    "]\n",
    "\n",
    "# CSV file name\n",
    "csv_file = \"Names.csv\"\n",
    "\n",
    "# Field names (header)\n",
    "csv_columns = ['No', 'Name', 'Country']\n",
    "\n",
    "try:\n",
    "    with open(csv_file, 'w', newline='') as csvfile:\n",
    "        writer = csv.DictWriter(csvfile, fieldnames=csv_columns)\n",
    "        \n",
    "        # Write the header\n",
    "        writer.writeheader()\n",
    "        \n",
    "        # Write the data\n",
    "        writer.writerows(dict_data)\n",
    "except IOError:\n",
    "    print(\"I/O error\")\n"
   ]
  },
  {
   "cell_type": "code",
   "execution_count": 2,
   "metadata": {},
   "outputs": [],
   "source": [
    "import csv\n",
    "from itertools import zip_longest\n",
    "\n",
    "def flatten_dict(d):\n",
    "    \"\"\"Flatten nested lists in dictionary values.\"\"\"\n",
    "    return {k: ','.join(map(str, v)) if isinstance(v, list) else v for k, v in d.items()}\n",
    "\n",
    "def save_list_of_dicts_to_csv(data, filename):\n",
    "    # Get all unique keys from all dictionaries\n",
    "    all_keys = set()\n",
    "    for d in data:\n",
    "        all_keys.update(d.keys())\n",
    "    \n",
    "    # Sort keys to ensure consistent column order\n",
    "    fieldnames = sorted(all_keys)\n",
    "\n",
    "    with open(filename, 'w', newline='') as csvfile:\n",
    "        writer = csv.DictWriter(csvfile, fieldnames=fieldnames)\n",
    "        \n",
    "        # Write the header\n",
    "        writer.writeheader()\n",
    "        \n",
    "        # Write the data\n",
    "        for row in data:\n",
    "            # Flatten nested lists and write the row\n",
    "            writer.writerow(flatten_dict(row))\n",
    "\n",
    "# Example usage\n",
    "data = [\n",
    "    {'name': 'Alice', 'scores': [85, 90, 92], 'hobbies': ['reading', 'swimming']},\n",
    "    {'name': 'Bob', 'scores': [78, 85, 88], 'hobbies': ['gaming', 'painting']},\n",
    "    {'name': 'Charlie', 'scores': [92, 95, 98], 'hobbies': ['cooking', 'dancing', 'singing']}\n",
    "]\n",
    "\n",
    "save_list_of_dicts_to_csv(data, 'output.csv')\n",
    " "
   ]
  }
 ],
 "metadata": {
  "kernelspec": {
   "display_name": "nuscenes",
   "language": "python",
   "name": "python3"
  },
  "language_info": {
   "codemirror_mode": {
    "name": "ipython",
    "version": 3
   },
   "file_extension": ".py",
   "mimetype": "text/x-python",
   "name": "python",
   "nbconvert_exporter": "python",
   "pygments_lexer": "ipython3",
   "version": "3.7.12"
  }
 },
 "nbformat": 4,
 "nbformat_minor": 2
}
