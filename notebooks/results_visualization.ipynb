{
 "cells": [
  {
   "cell_type": "code",
   "execution_count": 22,
   "metadata": {},
   "outputs": [],
   "source": [
    "import sys\n",
    "import os\n",
    "sys.path.append(os.getcwd() + '/../')\n",
    "\n",
    "from dataset_utils import *\n",
    "from main_nusc import data_path\n",
    "import pandas as pd\n",
    "from ast import literal_eval"
   ]
  },
  {
   "cell_type": "code",
   "execution_count": 23,
   "metadata": {},
   "outputs": [],
   "source": [
    "save_path = '../runs'\n",
    "#run = 'indigo-boat'\n",
    "#run = 'allegro-skillset'\n",
    "run = 'violent-sack'\n",
    "#run = 'relaxed-notch'\n",
    "filename = 'products_lane_changes_overlapping.csv'\n",
    "\n",
    "results_file = os.path.join(save_path, run, 'results', filename)\n",
    "\n",
    "df = pd.read_csv(results_file)"
   ]
  },
  {
   "cell_type": "code",
   "execution_count": 24,
   "metadata": {},
   "outputs": [
    {
     "name": "stdout",
     "output_type": "stream",
     "text": [
      "{'stop': 0.8276353276353277, 'back': nan, 'drive straight': 0.5129198966408268, 'accelerate': 0.5603089720736779, 'decelerate': 0.676739414288379, 'turn left': 0.6527272727272727, 'turn right': 0.5890313390313391, 'uturn': nan, 'change lane left': 0.6531393568147014, 'change lane right': 0.7368421052631579, 'overtake': 0.911522633744856, 'END': 0.7215189873417721, None: 0.8536585365853658}\n",
      "0.6487214768948515\n"
     ]
    },
    {
     "name": "stderr",
     "output_type": "stream",
     "text": [
      "/home/muyang/miniconda3/envs/nuscenes/lib/python3.7/site-packages/ipykernel_launcher.py:26: RuntimeWarning: invalid value encountered in true_divide\n"
     ]
    }
   ],
   "source": [
    "accs = []\n",
    "T_actions = np.zeros(len(actions))\n",
    "F_actions = np.zeros(len(actions))\n",
    "for idx in range(len(df)):\n",
    "    item = df.iloc[idx]\n",
    "    past_len = item['past_len']\n",
    "\n",
    "    gt = literal_eval(item['gt_seq'])\n",
    "\n",
    "    pred = literal_eval(item['prediction'])\n",
    "\n",
    "    mask = [gt[i] == pred[i] for i in range(past_len, len(pred))]\n",
    "    total = len(mask)\n",
    "    correct = mask.count(True)\n",
    "    acc = correct/total\n",
    "    accs.append(acc)\n",
    "\n",
    "    for i,a in enumerate(gt[past_len:len(pred)]):\n",
    "        act_idx = actions_dict[a]\n",
    "        if mask[i]:\n",
    "            T_actions[act_idx] += 1\n",
    "        else:\n",
    "            F_actions[act_idx] += 1\n",
    "\n",
    "total_actions = T_actions + F_actions\n",
    "mean_actions = T_actions/total_actions\n",
    "\n",
    "classes_acc = {actions[i]:mean_actions[i] for i in range(len(actions))}\n",
    "print(classes_acc)\n",
    "print(np.mean(np.array(accs)))"
   ]
  },
  {
   "cell_type": "code",
   "execution_count": 25,
   "metadata": {},
   "outputs": [
    {
     "name": "stdout",
     "output_type": "stream",
     "text": [
      "[1162.    0. 2382. 1886. 3628. 1077.  827.    0. 2559. 3486.  443.  171.\n",
      "  105.]\n",
      "[ 242.    0. 2262. 1480. 1733.  573.  577.    0. 1359. 1245.   43.   66.\n",
      "   18.]\n",
      "[1404.    0. 4644. 3366. 5361. 1650. 1404.    0. 3918. 4731.  486.  237.\n",
      "  123.]\n"
     ]
    }
   ],
   "source": [
    "print(T_actions)\n",
    "print(F_actions)\n",
    "print(T_actions + F_actions)"
   ]
  },
  {
   "cell_type": "code",
   "execution_count": 1,
   "metadata": {},
   "outputs": [
    {
     "ename": "NameError",
     "evalue": "name 'NuScenesSimple' is not defined",
     "output_type": "error",
     "traceback": [
      "\u001b[0;31m---------------------------------------------------------------------------\u001b[0m",
      "\u001b[0;31mNameError\u001b[0m                                 Traceback (most recent call last)",
      "\u001b[0;32m/tmp/ipykernel_695461/455838815.py\u001b[0m in \u001b[0;36m<module>\u001b[0;34m\u001b[0m\n\u001b[0;32m----> 1\u001b[0;31m \u001b[0mnusc_data\u001b[0m \u001b[0;34m=\u001b[0m \u001b[0mNuScenesSimple\u001b[0m\u001b[0;34m(\u001b[0m\u001b[0mdata_path\u001b[0m\u001b[0;34m,\u001b[0m \u001b[0;34m[\u001b[0m\u001b[0mstr\u001b[0m\u001b[0;34m(\u001b[0m\u001b[0mi\u001b[0m\u001b[0;34m)\u001b[0m \u001b[0;32mfor\u001b[0m \u001b[0mi\u001b[0m \u001b[0;32min\u001b[0m \u001b[0mrange\u001b[0m\u001b[0;34m(\u001b[0m\u001b[0;36m2454\u001b[0m\u001b[0;34m)\u001b[0m\u001b[0;34m]\u001b[0m\u001b[0;34m,\u001b[0m \u001b[0mmode\u001b[0m\u001b[0;34m=\u001b[0m\u001b[0;34m'test'\u001b[0m\u001b[0;34m,\u001b[0m \u001b[0mobs_perc\u001b[0m\u001b[0;34m=\u001b[0m\u001b[0;36m1\u001b[0m\u001b[0;34m)\u001b[0m\u001b[0;34m\u001b[0m\u001b[0;34m\u001b[0m\u001b[0m\n\u001b[0m\u001b[1;32m      2\u001b[0m \u001b[0;31m#nusc_data = NuScenesSimple(data_path, [str(i) for i in range(2456)], mode='train')\u001b[0m\u001b[0;34m\u001b[0m\u001b[0;34m\u001b[0m\u001b[0;34m\u001b[0m\u001b[0m\n",
      "\u001b[0;31mNameError\u001b[0m: name 'NuScenesSimple' is not defined"
     ]
    }
   ],
   "source": []
  },
  {
   "cell_type": "code",
   "execution_count": 27,
   "metadata": {},
   "outputs": [
    {
     "name": "stderr",
     "output_type": "stream",
     "text": [
      "Exception ignored in: <function BaseGeometry.__del__ at 0x7f78b6eb9cb0>\n",
      "Traceback (most recent call last):\n",
      "  File \"/home/muyang/miniconda3/envs/nuscenes/lib/python3.7/site-packages/shapely/geometry/base.py\", line 209, in __del__\n",
      "    self._empty(val=None)\n",
      "  File \"/home/muyang/miniconda3/envs/nuscenes/lib/python3.7/site-packages/shapely/geometry/base.py\", line 194, in _empty\n",
      "    self._lgeos.GEOSGeom_destroy(self.__geom__)\n",
      "KeyboardInterrupt: \n"
     ]
    }
   ],
   "source": [
    "nusc_data = NuScenesSimple(data_path, [str(i) for i in range(2454)], mode='test', obs_perc=1)\n",
    "\n",
    "lane_change_idxs = []\n",
    "for i,n in enumerate(nusc_data):\n",
    "    action_list = n['actions'].int().tolist() \n",
    "    if 8 in action_list or 9 in action_list:\n",
    "        lane_change_idxs.append(i)\n",
    "\n",
    "print(len(lane_change_idxs)/3)\n",
    "    \n",
    "split_dict = {'train':lane_change_idxs, 'test':lane_change_idxs}\n",
    "with open('../custom_splits/lane_changes.json', 'w') as f:\n",
    "    json.dump(split_dict, f)"
   ]
  },
  {
   "cell_type": "code",
   "execution_count": null,
   "metadata": {},
   "outputs": [],
   "source": []
  },
  {
   "cell_type": "code",
   "execution_count": null,
   "metadata": {},
   "outputs": [],
   "source": [
    "traj = 12\n",
    "\n",
    "render_trajectory('test_traj.gif', nusc_data[traj])"
   ]
  }
 ],
 "metadata": {
  "kernelspec": {
   "display_name": "nuscenes",
   "language": "python",
   "name": "python3"
  },
  "language_info": {
   "codemirror_mode": {
    "name": "ipython",
    "version": 3
   },
   "file_extension": ".py",
   "mimetype": "text/x-python",
   "name": "python",
   "nbconvert_exporter": "python",
   "pygments_lexer": "ipython3",
   "version": "3.7.12"
  }
 },
 "nbformat": 4,
 "nbformat_minor": 2
}
